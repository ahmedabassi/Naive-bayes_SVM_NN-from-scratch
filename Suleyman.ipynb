{
  "nbformat": 4,
  "nbformat_minor": 0,
  "metadata": {
    "colab": {
      "name": "Suleyman.ipynb",
      "provenance": [],
      "collapsed_sections": [],
      "toc_visible": true,
      "authorship_tag": "ABX9TyPwENYZlD1uAg1P5C4Vco7C",
      "include_colab_link": true
    },
    "kernelspec": {
      "name": "python3",
      "display_name": "Python 3"
    },
    "language_info": {
      "name": "python"
    }
  },
  "cells": [
    {
      "cell_type": "markdown",
      "metadata": {
        "id": "view-in-github",
        "colab_type": "text"
      },
      "source": [
        "<a href=\"https://colab.research.google.com/github/ahmedabassi/p2m-news/blob/main/Suleyman.ipynb\" target=\"_parent\"><img src=\"https://colab.research.google.com/assets/colab-badge.svg\" alt=\"Open In Colab\"/></a>"
      ]
    },
    {
      "cell_type": "markdown",
      "metadata": {
        "id": "68GntOjNw3T6"
      },
      "source": [
        "#EDA"
      ]
    },
    {
      "cell_type": "code",
      "metadata": {
        "colab": {
          "base_uri": "https://localhost:8080/"
        },
        "id": "YqG7MTwEl5pt",
        "outputId": "c008d2d5-ce0e-4947-fa66-10648a11f2ac"
      },
      "source": [
        "from google.colab import drive\n",
        "drive.mount('/content/drive') #amidou1133"
      ],
      "execution_count": 1,
      "outputs": [
        {
          "output_type": "stream",
          "name": "stdout",
          "text": [
            "Mounted at /content/drive\n"
          ]
        }
      ]
    },
    {
      "cell_type": "code",
      "metadata": {
        "colab": {
          "base_uri": "https://localhost:8080/"
        },
        "id": "Gt38b6ZQvUaE",
        "outputId": "32dc4b37-7c50-4011-8c1b-5d64917f8625"
      },
      "source": [
        "!ls"
      ],
      "execution_count": 1,
      "outputs": [
        {
          "output_type": "stream",
          "name": "stdout",
          "text": [
            "drive  sample_data\n"
          ]
        }
      ]
    },
    {
      "cell_type": "code",
      "metadata": {
        "id": "a466Pfo0vkNU"
      },
      "source": [
        "import pandas as pd \n",
        "df = pd.read_csv(\"/content/drive/MyDrive/BankChurners.csv\")"
      ],
      "execution_count": 2,
      "outputs": []
    },
    {
      "cell_type": "code",
      "metadata": {
        "id": "d9_YHTYVxTtV",
        "colab": {
          "base_uri": "https://localhost:8080/",
          "height": 118
        },
        "outputId": "a309d00c-687c-4b42-86f8-6ac61107be52"
      },
      "source": [
        "df.head(1)"
      ],
      "execution_count": 3,
      "outputs": [
        {
          "output_type": "execute_result",
          "data": {
            "text/html": [
              "<div>\n",
              "<style scoped>\n",
              "    .dataframe tbody tr th:only-of-type {\n",
              "        vertical-align: middle;\n",
              "    }\n",
              "\n",
              "    .dataframe tbody tr th {\n",
              "        vertical-align: top;\n",
              "    }\n",
              "\n",
              "    .dataframe thead th {\n",
              "        text-align: right;\n",
              "    }\n",
              "</style>\n",
              "<table border=\"1\" class=\"dataframe\">\n",
              "  <thead>\n",
              "    <tr style=\"text-align: right;\">\n",
              "      <th></th>\n",
              "      <th>CLIENTNUM</th>\n",
              "      <th>Attrition_Flag</th>\n",
              "      <th>Customer_Age</th>\n",
              "      <th>Gender</th>\n",
              "      <th>Dependent_count</th>\n",
              "      <th>Education_Level</th>\n",
              "      <th>Marital_Status</th>\n",
              "      <th>Income_Category</th>\n",
              "      <th>Card_Category</th>\n",
              "      <th>Months_on_book</th>\n",
              "      <th>Total_Relationship_Count</th>\n",
              "      <th>Months_Inactive_12_mon</th>\n",
              "      <th>Contacts_Count_12_mon</th>\n",
              "      <th>Credit_Limit</th>\n",
              "      <th>Total_Revolving_Bal</th>\n",
              "      <th>Avg_Open_To_Buy</th>\n",
              "      <th>Total_Amt_Chng_Q4_Q1</th>\n",
              "      <th>Total_Trans_Amt</th>\n",
              "      <th>Total_Trans_Ct</th>\n",
              "      <th>Total_Ct_Chng_Q4_Q1</th>\n",
              "      <th>Avg_Utilization_Ratio</th>\n",
              "      <th>Naive_Bayes_Classifier_Attrition_Flag_Card_Category_Contacts_Count_12_mon_Dependent_count_Education_Level_Months_Inactive_12_mon_1</th>\n",
              "      <th>Naive_Bayes_Classifier_Attrition_Flag_Card_Category_Contacts_Count_12_mon_Dependent_count_Education_Level_Months_Inactive_12_mon_2</th>\n",
              "    </tr>\n",
              "  </thead>\n",
              "  <tbody>\n",
              "    <tr>\n",
              "      <th>0</th>\n",
              "      <td>768805383</td>\n",
              "      <td>Existing Customer</td>\n",
              "      <td>45</td>\n",
              "      <td>M</td>\n",
              "      <td>3</td>\n",
              "      <td>High School</td>\n",
              "      <td>Married</td>\n",
              "      <td>$60K - $80K</td>\n",
              "      <td>Blue</td>\n",
              "      <td>39</td>\n",
              "      <td>5</td>\n",
              "      <td>1</td>\n",
              "      <td>3</td>\n",
              "      <td>12691.0</td>\n",
              "      <td>777</td>\n",
              "      <td>11914.0</td>\n",
              "      <td>1.335</td>\n",
              "      <td>1144</td>\n",
              "      <td>42</td>\n",
              "      <td>1.625</td>\n",
              "      <td>0.061</td>\n",
              "      <td>0.000093</td>\n",
              "      <td>0.99991</td>\n",
              "    </tr>\n",
              "  </tbody>\n",
              "</table>\n",
              "</div>"
            ],
            "text/plain": [
              "   CLIENTNUM  ... Naive_Bayes_Classifier_Attrition_Flag_Card_Category_Contacts_Count_12_mon_Dependent_count_Education_Level_Months_Inactive_12_mon_2\n",
              "0  768805383  ...                                            0.99991                                                                                \n",
              "\n",
              "[1 rows x 23 columns]"
            ]
          },
          "metadata": {},
          "execution_count": 3
        }
      ]
    },
    {
      "cell_type": "code",
      "metadata": {
        "colab": {
          "base_uri": "https://localhost:8080/"
        },
        "id": "NQuK0lBRxU2P",
        "outputId": "0222ac87-a74e-447a-a6f8-7673985af5e8"
      },
      "source": [
        "df.columns"
      ],
      "execution_count": 4,
      "outputs": [
        {
          "output_type": "execute_result",
          "data": {
            "text/plain": [
              "Index(['CLIENTNUM', 'Attrition_Flag', 'Customer_Age', 'Gender',\n",
              "       'Dependent_count', 'Education_Level', 'Marital_Status',\n",
              "       'Income_Category', 'Card_Category', 'Months_on_book',\n",
              "       'Total_Relationship_Count', 'Months_Inactive_12_mon',\n",
              "       'Contacts_Count_12_mon', 'Credit_Limit', 'Total_Revolving_Bal',\n",
              "       'Avg_Open_To_Buy', 'Total_Amt_Chng_Q4_Q1', 'Total_Trans_Amt',\n",
              "       'Total_Trans_Ct', 'Total_Ct_Chng_Q4_Q1', 'Avg_Utilization_Ratio',\n",
              "       'Naive_Bayes_Classifier_Attrition_Flag_Card_Category_Contacts_Count_12_mon_Dependent_count_Education_Level_Months_Inactive_12_mon_1',\n",
              "       'Naive_Bayes_Classifier_Attrition_Flag_Card_Category_Contacts_Count_12_mon_Dependent_count_Education_Level_Months_Inactive_12_mon_2'],\n",
              "      dtype='object')"
            ]
          },
          "metadata": {},
          "execution_count": 4
        }
      ]
    },
    {
      "cell_type": "markdown",
      "metadata": {
        "id": "3ZlNr58Zx8yT"
      },
      "source": [
        "Last two columns are irrelevant so let's delete them"
      ]
    },
    {
      "cell_type": "code",
      "metadata": {
        "id": "qC01dO-lxXNC"
      },
      "source": [
        "df.drop(columns=['Naive_Bayes_Classifier_Attrition_Flag_Card_Category_Contacts_Count_12_mon_Dependent_count_Education_Level_Months_Inactive_12_mon_1','Naive_Bayes_Classifier_Attrition_Flag_Card_Category_Contacts_Count_12_mon_Dependent_count_Education_Level_Months_Inactive_12_mon_2'],inplace=True)"
      ],
      "execution_count": 5,
      "outputs": []
    },
    {
      "cell_type": "code",
      "metadata": {
        "colab": {
          "base_uri": "https://localhost:8080/"
        },
        "id": "uS_hAmTAyUrG",
        "outputId": "05932bfa-6291-46c0-9004-e33fd35a1316"
      },
      "source": [
        "len(df.columns)"
      ],
      "execution_count": 6,
      "outputs": [
        {
          "output_type": "execute_result",
          "data": {
            "text/plain": [
              "21"
            ]
          },
          "metadata": {},
          "execution_count": 6
        }
      ]
    },
    {
      "cell_type": "markdown",
      "metadata": {
        "id": "p5-AYPlxzA6T"
      },
      "source": [
        "let's check for null values"
      ]
    },
    {
      "cell_type": "code",
      "metadata": {
        "colab": {
          "base_uri": "https://localhost:8080/"
        },
        "id": "ZFit_G_Nynxr",
        "outputId": "3b12fd9b-a741-4aad-f0b9-7bf11a9f1ab4"
      },
      "source": [
        "df.info()"
      ],
      "execution_count": 7,
      "outputs": [
        {
          "output_type": "stream",
          "name": "stdout",
          "text": [
            "<class 'pandas.core.frame.DataFrame'>\n",
            "RangeIndex: 10127 entries, 0 to 10126\n",
            "Data columns (total 21 columns):\n",
            " #   Column                    Non-Null Count  Dtype  \n",
            "---  ------                    --------------  -----  \n",
            " 0   CLIENTNUM                 10127 non-null  int64  \n",
            " 1   Attrition_Flag            10127 non-null  object \n",
            " 2   Customer_Age              10127 non-null  int64  \n",
            " 3   Gender                    10127 non-null  object \n",
            " 4   Dependent_count           10127 non-null  int64  \n",
            " 5   Education_Level           10127 non-null  object \n",
            " 6   Marital_Status            10127 non-null  object \n",
            " 7   Income_Category           10127 non-null  object \n",
            " 8   Card_Category             10127 non-null  object \n",
            " 9   Months_on_book            10127 non-null  int64  \n",
            " 10  Total_Relationship_Count  10127 non-null  int64  \n",
            " 11  Months_Inactive_12_mon    10127 non-null  int64  \n",
            " 12  Contacts_Count_12_mon     10127 non-null  int64  \n",
            " 13  Credit_Limit              10127 non-null  float64\n",
            " 14  Total_Revolving_Bal       10127 non-null  int64  \n",
            " 15  Avg_Open_To_Buy           10127 non-null  float64\n",
            " 16  Total_Amt_Chng_Q4_Q1      10127 non-null  float64\n",
            " 17  Total_Trans_Amt           10127 non-null  int64  \n",
            " 18  Total_Trans_Ct            10127 non-null  int64  \n",
            " 19  Total_Ct_Chng_Q4_Q1       10127 non-null  float64\n",
            " 20  Avg_Utilization_Ratio     10127 non-null  float64\n",
            "dtypes: float64(5), int64(10), object(6)\n",
            "memory usage: 1.6+ MB\n"
          ]
        }
      ]
    },
    {
      "cell_type": "markdown",
      "metadata": {
        "id": "6lnDoVDbzdia"
      },
      "source": [
        "as we can see we have 6 objects so they must be our categorical values"
      ]
    },
    {
      "cell_type": "code",
      "metadata": {
        "colab": {
          "base_uri": "https://localhost:8080/"
        },
        "id": "3mQSoivD-cmR",
        "outputId": "2d160099-b4a6-402e-b7a5-1fde901021ef"
      },
      "source": [
        "for e in df.columns:\n",
        "  if df[e].dtype=='O':\n",
        "    print(e, df[e].unique())"
      ],
      "execution_count": 8,
      "outputs": [
        {
          "output_type": "stream",
          "name": "stdout",
          "text": [
            "Attrition_Flag ['Existing Customer' 'Attrited Customer']\n",
            "Gender ['M' 'F']\n",
            "Education_Level ['High School' 'Graduate' 'Uneducated' 'Unknown' 'College' 'Post-Graduate'\n",
            " 'Doctorate']\n",
            "Marital_Status ['Married' 'Single' 'Unknown' 'Divorced']\n",
            "Income_Category ['$60K - $80K' 'Less than $40K' '$80K - $120K' '$40K - $60K' '$120K +'\n",
            " 'Unknown']\n",
            "Card_Category ['Blue' 'Gold' 'Silver' 'Platinum']\n"
          ]
        }
      ]
    },
    {
      "cell_type": "markdown",
      "metadata": {
        "id": "JIWuFVW4CCic"
      },
      "source": [
        "#Naive Bayes"
      ]
    },
    {
      "cell_type": "code",
      "metadata": {
        "id": "Ja05UsQskHVj"
      },
      "source": [
        "df.drop(columns = [\"CLIENTNUM\"] , inplace = True)"
      ],
      "execution_count": 9,
      "outputs": []
    },
    {
      "cell_type": "markdown",
      "metadata": {
        "id": "-YgsdDCzkQMP"
      },
      "source": [
        "##Estimating categorical "
      ]
    },
    {
      "cell_type": "code",
      "metadata": {
        "id": "IAcADZjLnOW0"
      },
      "source": [
        "def count_class(df):\n",
        "  #class 1\n",
        "  s=0\n",
        "  for e in df.Attrition_Flag:\n",
        "    if e == \"Existing Customer\":\n",
        "      s+=1\n",
        "  return [s,df.shape[0]-s]"
      ],
      "execution_count": 10,
      "outputs": []
    },
    {
      "cell_type": "code",
      "metadata": {
        "colab": {
          "base_uri": "https://localhost:8080/"
        },
        "id": "L-mW6rHDnnR7",
        "outputId": "3704cc87-6ecc-4f8d-d52b-1274ed4c81fe"
      },
      "source": [
        "count_class(df)"
      ],
      "execution_count": 11,
      "outputs": [
        {
          "output_type": "execute_result",
          "data": {
            "text/plain": [
              "[8500, 1627]"
            ]
          },
          "metadata": {},
          "execution_count": 11
        }
      ]
    },
    {
      "cell_type": "code",
      "metadata": {
        "id": "KL1IASdNk3LZ"
      },
      "source": [
        "def prior(df):\n",
        "  return [e/df.shape[0] for e in count_class(df)]"
      ],
      "execution_count": 12,
      "outputs": []
    },
    {
      "cell_type": "code",
      "metadata": {
        "colab": {
          "base_uri": "https://localhost:8080/"
        },
        "id": "us0kPyjulVfI",
        "outputId": "3de1845b-0340-4782-df06-8f2b9906d662"
      },
      "source": [
        "prior(df)"
      ],
      "execution_count": 13,
      "outputs": [
        {
          "output_type": "execute_result",
          "data": {
            "text/plain": [
              "[0.8393403772094401, 0.1606596227905599]"
            ]
          },
          "metadata": {},
          "execution_count": 13
        }
      ]
    },
    {
      "cell_type": "code",
      "metadata": {
        "id": "fs9ARMT8kPfM"
      },
      "source": [
        "import numpy as np \n",
        "def estimate_categorical(df,col,alpha,N):\n",
        "  #N = df.shape[1]-1\n",
        "  s = list(col.unique())\n",
        "  removed_attrib=s.pop()  #we can deduce the last element's probabilty by using P(A bar) = 1 - P(A)\n",
        "  count_class1 = count_class(df)[0]\n",
        "  count_class0 = count_class(df)[1]\n",
        "  res = dict()\n",
        "  sum_1=0\n",
        "  sum_0=0\n",
        "  for e in s:\n",
        "    counter_1=0\n",
        "    counter_0=0\n",
        "    for i in range(df.shape[1]):\n",
        "      #class 1 \n",
        "      if (col[i]==e) and (df.Attrition_Flag[i] == \"Existing Customer\") : \n",
        "        counter_1+=1\n",
        "      #class 0\n",
        "      elif (col[i]==e) and (df.Attrition_Flag[i] == \"Attrited Customer\") : \n",
        "        counter_0+=1\n",
        "    proba_1 = (counter_1 + alpha)/(count_class1 + alpha * N)\n",
        "    proba_0 = (counter_0 + alpha)/(count_class0 + alpha * N)\n",
        "    sum_1+=proba_1\n",
        "    sum_0+=proba_0\n",
        "\n",
        "    res[e] = [proba_1,proba_0]\n",
        "  res[removed_attrib] = [1-sum_1,1-sum_0]\n",
        "  return res"
      ],
      "execution_count": 14,
      "outputs": []
    },
    {
      "cell_type": "code",
      "metadata": {
        "id": "0OsUsh7dzjaQ"
      },
      "source": [
        "def search(e,intervals): \n",
        "  for i in range(len(intervals)):\n",
        "    if i==0:\n",
        "      if e<=intervals[i][1] and e >=intervals[i][0] : #so that you can compare with vmin \n",
        "        return intervals[i]\n",
        "\n",
        "    elif e<=intervals[i][1] and e >intervals[i][0] : \n",
        "      return intervals[i]"
      ],
      "execution_count": 15,
      "outputs": []
    },
    {
      "cell_type": "markdown",
      "metadata": {
        "id": "eCDm4IG_AhY8"
      },
      "source": [
        "##Estimating numerical"
      ]
    },
    {
      "cell_type": "code",
      "metadata": {
        "id": "Iv-GDgpRxz8f"
      },
      "source": [
        "def estimate_numerical(df,col,alpha,N,k):\n",
        "  l = list(col)\n",
        "  l.sort()\n",
        "  vmin=l[0]\n",
        "  vmax=l[-1] \n",
        "  w = (vmax-vmin)/k\n",
        "  intervals=[]\n",
        "  for i in range(0,k) : \n",
        "    intervals.append([vmin+i*w,vmin+(i+1)*w])\n",
        "  samples_intervals=[]\n",
        "  for e in col :\n",
        "    samples_intervals.append(search(e,intervals))\n",
        "\n",
        "  count_class1 = count_class(df)[0]\n",
        "  count_class0 = count_class(df)[1]\n",
        "  res = dict()\n",
        "  sum_1=0\n",
        "  sum_0=0\n",
        "  # removed_attrib=intervals.pop()\n",
        "  for interval in intervals:\n",
        "    counter_1=0\n",
        "    counter_0=0\n",
        "    for i in range(len(samples_intervals)):\n",
        "        #class 1 \n",
        "        if  samples_intervals[i]==interval and (df.Attrition_Flag[i] == \"Existing Customer\") : \n",
        "          counter_1+=1\n",
        "        #class 0\n",
        "        elif samples_intervals[i]==interval  and (df.Attrition_Flag[i] == \"Attrited Customer\") : \n",
        "          counter_0+=1\n",
        "    proba_1 = (counter_1 + alpha)/(count_class1 + alpha * N)\n",
        "    proba_0 = (counter_0 + alpha)/(count_class0 + alpha * N)\n",
        "    sum_1+=proba_1\n",
        "    sum_0+=proba_0\n",
        "    res[str(interval)] = [proba_1,proba_0]\n",
        "  # res[str(removed_attrib)] =  [1-sum_1,1-sum_0]\n",
        "  return res"
      ],
      "execution_count": 16,
      "outputs": []
    },
    {
      "cell_type": "code",
      "metadata": {
        "id": "ladSrywnp_am"
      },
      "source": [
        "#seperating columns by type\n",
        "categorical_cols =  [\"Gender\", \"Marital_Status\" , \"Income_Category\", \"Education_Level\", \"Card_Category\"]\n",
        "numerical_cols = []\n",
        "for e in df.columns:\n",
        "  if e not in categorical_cols and e != 'Attrition_Flag' :\n",
        "    numerical_cols.append(e)"
      ],
      "execution_count": 17,
      "outputs": []
    },
    {
      "cell_type": "code",
      "metadata": {
        "id": "c9zrw97cULiG"
      },
      "source": [
        "catDict = dict()\n",
        "numDict = dict()\n",
        "N = df.shape[1]-1\n",
        "for cat_col in categorical_cols:\n",
        "  catDict[cat_col] = estimate_categorical(df,df[cat_col],1,N)\n",
        "\n",
        "k=10\n",
        "for num_col in numerical_cols:\n",
        "  numDict[num_col] = estimate_numerical(df,df[num_col],1,N,k)"
      ],
      "execution_count": 18,
      "outputs": []
    },
    {
      "cell_type": "code",
      "metadata": {
        "id": "KP4Vw3lPcaE4"
      },
      "source": [
        "import math as m \n",
        "import ast\n",
        "def predict(X,df):\n",
        " class_1=0\n",
        " class_0=0\n",
        " features=list(X.keys())\n",
        " for feature in features:\n",
        "   if feature in categorical_cols :\n",
        "     class_1+=m.log(catDict[feature][X[feature]][0])\n",
        "     class_0+=m.log(catDict[feature][X[feature]][1])\n",
        "   elif feature in numerical_cols :\n",
        "     s=search(X[feature], [ast.literal_eval(e) for e in list(numDict[feature].keys())])\n",
        "     class_1+=m.log(numDict[feature][str(s)][0])\n",
        "     class_0+=m.log(numDict[feature][str(s)][1])\n",
        " p= prior(df)\n",
        " class_1+=m.log(p[0])\n",
        " class_0+=m.log(p[1])\n",
        " if class_1>class_0:\n",
        "   return \"Existing Customer\"\n",
        " elif class_1<class_0:\n",
        "   return \"Attrited Customer\"\n",
        "#  else: return \"equal proba\""
      ],
      "execution_count": 19,
      "outputs": []
    },
    {
      "cell_type": "code",
      "metadata": {
        "id": "FRJajtfrq6E1"
      },
      "source": [
        "def train_test_split_stratified(df,howMuch):\n",
        "  size = df.shape[0]\n",
        "  # class1=count_class(df)[0]/size\n",
        "  # class0=count_class(df)[1]/size\n",
        "  test_size=size*howMuch\n",
        "  test_class1=round(count_class(df)[0]/size*test_size,0)\n",
        "  test_class0=round(count_class(df)[1]/size*test_size,0)\n",
        "  train_df= df.copy()\n",
        "  test_df= pd.DataFrame(columns = df.columns)\n",
        "\n",
        "  s1=0\n",
        "  s0=0\n",
        "  for i in range(size):\n",
        "    if s1<test_class1:\n",
        "      if df.iloc[i][\"Attrition_Flag\"] == \"Existing Customer\" :\n",
        "        test_df=test_df.append(df.iloc[i], ignore_index = True)\n",
        "        s1+=1\n",
        "        train_df.drop(i,axis=0,inplace=True)\n",
        "    else: break\n",
        "\n",
        "  for i in range(size):\n",
        "    if s0<test_class0:\n",
        "      if df.iloc[i][\"Attrition_Flag\"] == \"Attrited Customer\" :\n",
        "        test_df=test_df.append(df.iloc[i], ignore_index = True)\n",
        "        s0+=1\n",
        "        train_df.drop(i,axis=0,inplace=True)\n",
        "    else: break\n",
        "    train_df.reset_index()\n",
        "    test_df.reset_index()\n",
        "\n",
        "  return train_df,test_df"
      ],
      "execution_count": 20,
      "outputs": []
    },
    {
      "cell_type": "code",
      "metadata": {
        "id": "hMrV2mc6WXkd"
      },
      "source": [
        "train_df,test_df=train_test_split_stratified(df,0.02)"
      ],
      "execution_count": 21,
      "outputs": []
    },
    {
      "cell_type": "code",
      "metadata": {
        "colab": {
          "base_uri": "https://localhost:8080/"
        },
        "id": "Y2faGXAWanwO",
        "outputId": "58143584-0f94-4ee9-a9d3-72a5c872c6b2"
      },
      "source": [
        "count_class(test_df) \n",
        "#it workds"
      ],
      "execution_count": 22,
      "outputs": [
        {
          "output_type": "execute_result",
          "data": {
            "text/plain": [
              "[170, 33]"
            ]
          },
          "metadata": {},
          "execution_count": 22
        }
      ]
    },
    {
      "cell_type": "markdown",
      "metadata": {
        "id": "gKwTGSYobQTB"
      },
      "source": [
        "##training and testing naive bayes"
      ]
    },
    {
      "cell_type": "code",
      "metadata": {
        "id": "9vhXwoGycRlp"
      },
      "source": [
        "def confusionMatrix(res):\n",
        "  TPs=0\n",
        "  TNs=0\n",
        "  FPs=0\n",
        "  FNs=0\n",
        "  for e in res:\n",
        "    x=e[0]\n",
        "    y=e[1]\n",
        "    if(y==\"Existing Customer\" and x==\"Existing Customer\"):\n",
        "      TPs+=1\n",
        "    elif (y==\"Existing Customer\" and x == \"Attrited Customer\"):\n",
        "      FNs+=1\n",
        "    elif (y==\"Attrited Customer\" and x == \"Attrited Customer\"):\n",
        "      TNs+=1\n",
        "    else:\n",
        "      FPs+=1\n",
        "  return np.array([[TPs,FPs],[FNs,TNs]])"
      ],
      "execution_count": 23,
      "outputs": []
    },
    {
      "cell_type": "code",
      "metadata": {
        "id": "_57FkrPhx46t"
      },
      "source": [
        "def scores(res):\n",
        "  TPs=0\n",
        "  TNs=0\n",
        "  FPs=0\n",
        "  FNs=0\n",
        "  for e in res:\n",
        "    x=e[0]\n",
        "    y=e[1]\n",
        "    if(y==\"Existing Customer\" and x==\"Existing Customer\"):\n",
        "      TPs+=1\n",
        "    elif (y==\"Existing Customer\" and x == \"Attrited Customer\"):\n",
        "      FNs+=1\n",
        "    elif (y==\"Attrited Customer\" and x == \"Attrited Customer\"):\n",
        "      TNs+=1\n",
        "    else:\n",
        "      FPs+=1\n",
        "    accuracy= (TPs+TNs)/(TPs+TNs+FPs+FNs)\n",
        "    precision=TPs/(TPs+FPs)\n",
        "    recall=TPs/(TPs+FNs)\n",
        "    f1Score=(2*precision*recall)/(recall+precision)\n",
        "  return {\"accuracy\":accuracy,\"precision\":precision,\"recall\":recall,\"f1Score\":f1Score}"
      ],
      "execution_count": 24,
      "outputs": []
    },
    {
      "cell_type": "code",
      "metadata": {
        "id": "H5XdyOfnbiAk",
        "colab": {
          "base_uri": "https://localhost:8080/"
        },
        "outputId": "e126ffe0-19a9-49ea-b957-65697cb6c818"
      },
      "source": [
        "#Training and testing\n",
        "categorical_cols =  [\"Gender\", \"Marital_Status\" , \"Income_Category\", \"Education_Level\", \"Card_Category\"]\n",
        "numerical_cols = []\n",
        "for e in df.columns:\n",
        "  if e not in categorical_cols and e != 'Attrition_Flag' :\n",
        "    numerical_cols.append(e)\n",
        "catDict = dict()\n",
        "numDict = dict()\n",
        "N = df.shape[1]-1\n",
        "\n",
        "alpha=1\n",
        "for cat_col in categorical_cols:\n",
        "  catDict[cat_col] = estimate_categorical(df,df[cat_col],alpha,N)\n",
        "\n",
        "k=10\n",
        "for num_col in numerical_cols:\n",
        "  numDict[num_col] = estimate_numerical(df,df[num_col],1,N,k)\n",
        "\n",
        "res=[]\n",
        "for i in range(test_df.shape[0]):\n",
        "  d=dict(test_df.iloc[i])\n",
        "  label=d.pop('Attrition_Flag')\n",
        "  X=d\n",
        "  res.append([predict(X,train_df),label])\n",
        "print(confusionMatrix(res))"
      ],
      "execution_count": 25,
      "outputs": [
        {
          "output_type": "stream",
          "name": "stdout",
          "text": [
            "[[165  16]\n",
            " [  5  17]]\n"
          ]
        }
      ]
    },
    {
      "cell_type": "markdown",
      "metadata": {
        "id": "KnbkbV0bApsy"
      },
      "source": [
        "##HyperParameter tuning"
      ]
    },
    {
      "cell_type": "code",
      "metadata": {
        "id": "3ZrKBHNudWA7"
      },
      "source": [
        "from matplotlib import pyplot as plt\n",
        "def plotF1vsk():\n",
        "  ks=[i*5 for i in range(1,6)]\n",
        "  f1scores=[]\n",
        "  for k in ks:\n",
        "    res=[]\n",
        "    for num_col in numerical_cols:\n",
        "      numDict[num_col] = estimate_numerical(df,df[num_col],1,N,k)\n",
        "\n",
        "    for i in range(test_df.shape[0]):\n",
        "      d=dict(test_df.iloc[i])\n",
        "      label=d.pop('Attrition_Flag')\n",
        "      X=d\n",
        "      res.append([predict(X,train_df),label])\n",
        "    f1scores.append(scores(res)[\"f1Score\"])\n",
        "  plt.plot(ks,f1scores)\n",
        "  plt.xlabel(\"k\")\n",
        "  plt.ylabel(\"F1 Score\")\n",
        "  plt.title(\"k vs F1\")\n",
        "  plt.show()"
      ],
      "execution_count": 26,
      "outputs": []
    },
    {
      "cell_type": "code",
      "metadata": {
        "colab": {
          "base_uri": "https://localhost:8080/",
          "height": 295
        },
        "id": "DZs5Py_d33fp",
        "outputId": "4bcdec79-ea2b-4645-9902-8bb3eb86b2ee"
      },
      "source": [
        "plotF1vsk()"
      ],
      "execution_count": 27,
      "outputs": [
        {
          "output_type": "display_data",
          "data": {
            "image/png": "[encoded data removed]",
            "text/plain": [
              "<Figure size 432x288 with 1 Axes>"
            ]
          },
          "metadata": {
            "needs_background": "light"
          }
        }
      ]
    },
    {
      "cell_type": "code",
      "metadata": {
        "colab": {
          "base_uri": "https://localhost:8080/"
        },
        "id": "f-q5Gu4Z4aIT",
        "outputId": "d1ff53c9-e63a-4877-bed6-db7fa5bae7e4"
      },
      "source": [
        "#for k = 20\n",
        "#Training and testing\n",
        "categorical_cols =  [\"Gender\", \"Marital_Status\" , \"Income_Category\", \"Education_Level\", \"Card_Category\"]\n",
        "numerical_cols = []\n",
        "for e in df.columns:\n",
        "  if e not in categorical_cols and e != 'Attrition_Flag' :\n",
        "    numerical_cols.append(e)\n",
        "catDict = dict()\n",
        "numDict = dict()\n",
        "N = df.shape[1]-1\n",
        "\n",
        "alpha=1\n",
        "for cat_col in categorical_cols:\n",
        "  catDict[cat_col] = estimate_categorical(df,df[cat_col],alpha,N)\n",
        "\n",
        "k=20\n",
        "for num_col in numerical_cols:\n",
        "  numDict[num_col] = estimate_numerical(df,df[num_col],1,N,k)\n",
        "\n",
        "res=[]\n",
        "for i in range(test_df.shape[0]):\n",
        "  d=dict(test_df.iloc[i])\n",
        "  label=d.pop('Attrition_Flag')\n",
        "  X=d\n",
        "  res.append([predict(X,train_df),label])\n",
        "print(confusionMatrix(res))"
      ],
      "execution_count": 28,
      "outputs": [
        {
          "output_type": "stream",
          "name": "stdout",
          "text": [
            "[[165  14]\n",
            " [  5  19]]\n"
          ]
        }
      ]
    },
    {
      "cell_type": "markdown",
      "metadata": {
        "id": "db9U5550JOIo"
      },
      "source": [
        "#SVM"
      ]
    },
    {
      "cell_type": "markdown",
      "metadata": {
        "id": "6Em_-uWlA8es"
      },
      "source": [
        "##Label encoding"
      ]
    },
    {
      "cell_type": "code",
      "metadata": {
        "id": "Q5A22dBYTmk3"
      },
      "source": [
        "transformed_df = df.copy()\n",
        "def LabelEncoding(df,col):\n",
        "  if col=='Attrition_Flag':\n",
        "    for i in range(df.shape[0]):\n",
        "      if df[col][i] == 'Existing Customer':\n",
        "        df[col][i] = 1\n",
        "      else: df[col][i] = -1\n",
        "  else:\n",
        "    s = list(df[col].unique())\n",
        "    mapping={}\n",
        "    for i in range(len(s)):\n",
        "     mapping[s[i]] = i\n",
        "\n",
        "    for k in range(df.shape[0]):\n",
        "      df[col][k] = mapping[df[col][k]]"
      ],
      "execution_count": 29,
      "outputs": []
    },
    {
      "cell_type": "code",
      "metadata": {
        "id": "VzB6NCODUdgW",
        "colab": {
          "base_uri": "https://localhost:8080/"
        },
        "outputId": "bd918c11-8494-40cf-e471-793b766bb75f"
      },
      "source": [
        "for col in categorical_cols:\n",
        " LabelEncoding(transformed_df,col)\n",
        "LabelEncoding(transformed_df,\"Attrition_Flag\")"
      ],
      "execution_count": 30,
      "outputs": [
        {
          "output_type": "stream",
          "name": "stderr",
          "text": [
            "/usr/local/lib/python3.7/dist-packages/ipykernel_launcher.py:15: SettingWithCopyWarning: \n",
            "A value is trying to be set on a copy of a slice from a DataFrame\n",
            "\n",
            "See the caveats in the documentation: https://pandas.pydata.org/pandas-docs/stable/user_guide/indexing.html#returning-a-view-versus-a-copy\n",
            "  from ipykernel import kernelapp as app\n",
            "/usr/local/lib/python3.7/dist-packages/ipykernel_launcher.py:6: SettingWithCopyWarning: \n",
            "A value is trying to be set on a copy of a slice from a DataFrame\n",
            "\n",
            "See the caveats in the documentation: https://pandas.pydata.org/pandas-docs/stable/user_guide/indexing.html#returning-a-view-versus-a-copy\n",
            "  \n",
            "/usr/local/lib/python3.7/dist-packages/ipykernel_launcher.py:7: SettingWithCopyWarning: \n",
            "A value is trying to be set on a copy of a slice from a DataFrame\n",
            "\n",
            "See the caveats in the documentation: https://pandas.pydata.org/pandas-docs/stable/user_guide/indexing.html#returning-a-view-versus-a-copy\n",
            "  import sys\n"
          ]
        }
      ]
    },
    {
      "cell_type": "code",
      "metadata": {
        "id": "ap7LhUR0LnuF"
      },
      "source": [
        "N=transformed_df.shape[0]"
      ],
      "execution_count": 31,
      "outputs": []
    },
    {
      "cell_type": "markdown",
      "metadata": {
        "id": "66d12qyTrfxr"
      },
      "source": [
        "##One hot encoding"
      ]
    },
    {
      "cell_type": "markdown",
      "metadata": {
        "id": "sEFOEAKorheb"
      },
      "source": [
        "##Quadratic optimization solving using CVXOPT or quadprog solvers"
      ]
    },
    {
      "cell_type": "code",
      "metadata": {
        "id": "nAk9Q8Y5NvLD"
      },
      "source": [
        "import numpy as np \n",
        "#creating X\n",
        "X=transformed_df.values\n",
        "N=X.shape[0]\n",
        "#creating y\n",
        "y=transformed_df[\"Attrition_Flag\"].values\n",
        "\n",
        "#creating P\n",
        "yX=X.copy()\n",
        "for i in range(N):\n",
        "  yX[i] = y[i]*X[i]\n",
        "yX_t=np.transpose(X)\n",
        "P = -1*np.matmul(yX,yX_t)\n",
        "\n",
        "#craeting q\n",
        "q=np.transpose(np.array([1 for i in range(N)]))\n",
        "\n",
        "#creating G\n",
        "G=-1*np.identity(N)\n",
        "\n",
        "#creating h\n",
        "h=np.transpose(np.array([0 for i in range(N)]))\n",
        "\n",
        "#creating A\n",
        "A=y\n",
        "\n",
        "#creating b\n",
        "b=0"
      ],
      "execution_count": 12,
      "outputs": []
    },
    {
      "cell_type": "code",
      "metadata": {
        "colab": {
          "base_uri": "https://localhost:8080/"
        },
        "id": "I6sbjqjemGpJ",
        "outputId": "c519e0cf-ae45-4dcb-a42f-81197689cb2c"
      },
      "source": [
        "!pip install cvxopt"
      ],
      "execution_count": 13,
      "outputs": [
        {
          "output_type": "stream",
          "name": "stdout",
          "text": [
            "Requirement already satisfied: cvxopt in /usr/local/lib/python3.7/dist-packages (1.2.7)\n"
          ]
        }
      ]
    },
    {
      "cell_type": "code",
      "metadata": {
        "id": "wa4MEhLAmGxQ"
      },
      "source": [
        "def cvxopt_solve_qp(P, q, G=None, h=None, A=None, b=None):\n",
        "    P = .5 * (P + P.T)  # make sure P is symmetric\n",
        "    args = [cvxopt.matrix(P), cvxopt.matrix(q)]\n",
        "    if G is not None:\n",
        "        args.extend([cvxopt.matrix(G), cvxopt.matrix(h)])\n",
        "        if A is not None:\n",
        "            args.extend([cvxopt.matrix(A), cvxopt.matrix(b)])\n",
        "    sol = cvxopt.solvers.qp(*args)\n",
        "    if 'optimal' not in sol['status']:\n",
        "        return None\n",
        "    return numpy.array(sol['x']).reshape((P.shape[1],))"
      ],
      "execution_count": 14,
      "outputs": []
    },
    {
      "cell_type": "code",
      "metadata": {
        "id": "SK3zaysQmWI2"
      },
      "source": [
        "alphas=cvxopt_solve_qp(P,q,G,h,A,b) #not working"
      ],
      "execution_count": null,
      "outputs": []
    }
  ]
}